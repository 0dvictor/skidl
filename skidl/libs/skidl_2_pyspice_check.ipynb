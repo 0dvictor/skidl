{
 "cells": [
  {
   "cell_type": "code",
   "execution_count": 1,
   "metadata": {},
   "outputs": [
    {
     "name": "stderr",
     "output_type": "stream",
     "text": [
      "WARNING: KICAD_SYMBOL_DIR environment variable is missing, so the default KiCad symbol libraries won't be searched.\n"
     ]
    }
   ],
   "source": [
    "from skidl.pyspice import *\n",
    "from PySpice.Spice.Netlist import Circuit"
   ]
  },
  {
   "cell_type": "markdown",
   "metadata": {},
   "source": [
    "# Checking tool"
   ]
  },
  {
   "cell_type": "code",
   "execution_count": 2,
   "metadata": {},
   "outputs": [],
   "source": [
    "def netlist_comp_check(skidl_netlist, pyspice_netlist):\n",
    "    \"\"\"\n",
    "    Simple dumb check tool to compare the netlist from sckidl and pyspice \n",
    "    \n",
    "    Args:\n",
    "        skidl_netlist (PySpice.Spice.Netlist.Circuit): resulting netlist obj from\n",
    "            skidl using skidl's `generate_netlist` utlity to compare to pyspice direct\n",
    "            creation\n",
    "        \n",
    "        pyspice_netlist (PySpice.Spice.Netlist.Circuit): circuit obj created directly in pyspice via\n",
    "            `PySpice.Spice.Netlist.Circuit` to compare it's netlist to skidl produced one\n",
    "    \n",
    "    Returns:\n",
    "        if skidl_netlist is longer then pyspice_netlist will return string statment saying: 'skidl_netlist is longer then pyspice_netlist'\n",
    "        \n",
    "        if skidl_netlist is shorter then pyspice_netlist will return string statment saying: 'skidl_netlist is shorter then pyspice_netlist'\n",
    "        \n",
    "        if skidl_netlist and pyspice_netlist are equall and but there are diffrances then will print\n",
    "        message of thoes difrances(|1 indexed) and return a list of indexs where the skidl netlist is differs from the pyspice one\n",
    "        \n",
    "        if skidl_netlist == pyspice_netlist then will return the word: 'Match'\n",
    "    \n",
    "    TODO: Where should I start\n",
    "    \"\"\"\n",
    "    #only care about the final netlist string\n",
    "    skidl_netlist=skidl_netlist.str()\n",
    "    pyspice_netlist=pyspice_netlist.str()\n",
    "    \n",
    "    #check the lengths\n",
    "    if len(skidl_netlist)>len(pyspice_netlist):\n",
    "        return('skidl_netlist is longer then pyspice_netlist')\n",
    "    elif len(skidl_netlist)<len(pyspice_netlist):\n",
    "        return('skidl_netlist is shorter then pyspice_netlist') \n",
    "    \n",
    "    #compare strings char by char\n",
    "    else:\n",
    "        string_check=[i for i in range(len(skidl_netlist)) if skidl_netlist[i] != pyspice_netlist[i]]\n",
    "        if string_check==[]:\n",
    "            return 'Match'\n",
    "        else:\n",
    "            print('Match failed skidl_netlist:')\n",
    "            print(f'{[i|1 for i in string_check]}')\n",
    "            return string_check"
   ]
  },
  {
   "cell_type": "markdown",
   "metadata": {},
   "source": [
    "# Basic Elements"
   ]
  },
  {
   "cell_type": "markdown",
   "metadata": {},
   "source": [
    "## A            | XSPICE code model (not checked)\n",
    "PySpice/PySpice/Spice/BasicElement.py; (need to find):\n",
    "\n",
    "skidl/skidl/libs/pyspice_sklib.py; name=\"A\""
   ]
  },
  {
   "cell_type": "markdown",
   "metadata": {},
   "source": [
    "## B            | Behavioral (arbitrary) source (not checked)\n",
    "PySpice/PySpice/Spice/BasicElement.py; class BehavioralSource:\n",
    "\n",
    "skidl/skidl/libs/pyspice_sklib.py; name=\"B\"\n",
    "\n",
    "ngspice 5.1: Bxxxx: Nonlinear dependent source (ASRC): BXXXXXXX n| n- <i=expr > <v=expr > <tc1=value > <tc2=value > <temp=value > <dtemp=value >"
   ]
  },
  {
   "cell_type": "markdown",
   "metadata": {},
   "source": [
    "## C            | Capacitor \n",
    "PySpice/PySpice/Spice/BasicElement.py; class Capacitor(DipoleElement)\n",
    "\n",
    "skidl/skidl/libs/pyspice_sklib.py; name=\"C\"\n",
    "\n",
    "ngspice 3.2.5 Capacitors: \n",
    "\n",
    "CXXXXXXX n| n- <value > <mname > <m=val> <scale=val> <temp=val> <dtemp=val> <tc1=val> <tc2=val> <ic=init_condition >\n",
    "    \n",
    "### Notes"
   ]
  },
  {
   "cell_type": "code",
   "execution_count": 3,
   "metadata": {},
   "outputs": [
    {
     "name": "stdout",
     "output_type": "stream",
     "text": [
      ".title \n",
      "C1 N1 N2 5 dtemp=5 ic=5 m=5 scale=5 temp=5\n",
      "\n"
     ]
    },
    {
     "name": "stderr",
     "output_type": "stream",
     "text": [
      "\n",
      "No errors or warnings found during netlist generation.\n",
      "\n"
     ]
    }
   ],
   "source": [
    "reset()\n",
    "net_1=Net('N1'); net_2=Net('N2')\n",
    "skidl_C=C(ref='1', value=5, scale=5, temp=5, dtemp=5, ic=5, m=5)\n",
    "skidl_C['p', 'n']+=net_1, net_2\n",
    "skidl_circ=generate_netlist()\n",
    "print(skidl_circ)"
   ]
  },
  {
   "cell_type": "code",
   "execution_count": 4,
   "metadata": {},
   "outputs": [
    {
     "name": "stdout",
     "output_type": "stream",
     "text": [
      ".title \n",
      "C1 N1 N2 5 dtemp=5 ic=5 m=5 scale=5 temp=5\n",
      "\n"
     ]
    }
   ],
   "source": [
    "pyspice_circ=Circuit('')\n",
    "pyspice_circ.C('1', 'N1', 'N2', 5, scale=5, temp=5, dtemp=5, ic=5, m=5)\n",
    "print(pyspice_circ)"
   ]
  },
  {
   "cell_type": "code",
   "execution_count": 5,
   "metadata": {},
   "outputs": [
    {
     "data": {
      "text/plain": [
       "'Match'"
      ]
     },
     "execution_count": 5,
     "metadata": {},
     "output_type": "execute_result"
    }
   ],
   "source": [
    "netlist_comp_check(skidl_circ, pyspice_circ)"
   ]
  },
  {
   "cell_type": "markdown",
   "metadata": {},
   "source": [
    "## D            | Diode   \n",
    "PySpice/PySpice/Spice/BasicElement.py; class Diode(FixedPinElement)\n",
    "\n",
    "skidl/skidl/libs/pyspice_sklib.py; name=\"D\"\n",
    "\n",
    "ngspice 7.1 Junction Diodes: \n",
    "\n",
    "DXXXXXXX n| n- mname <area=val> <m=val> <pj=val> <off> <ic=vd> <temp=val> <dtemp=val>\n",
    "    \n",
    "### Notes\n",
    "- `ic`: did not work in eather skidl or pyspice"
   ]
  },
  {
   "cell_type": "code",
   "execution_count": 6,
   "metadata": {},
   "outputs": [
    {
     "name": "stderr",
     "output_type": "stream",
     "text": [
      "ERROR: Unknown SPICE model: 5\n"
     ]
    },
    {
     "name": "stdout",
     "output_type": "stream",
     "text": [
      ".title \n",
      "D1 N1 N2 5 area=5 dtemp=5 m=5 off pj=5 temp=5\n",
      "\n"
     ]
    },
    {
     "name": "stderr",
     "output_type": "stream",
     "text": [
      "\n",
      "0 warnings found during netlist generation.\n",
      "1 errors found during netlist generation.\n",
      "\n"
     ]
    }
   ],
   "source": [
    "reset()\n",
    "net_1=Net('N1'); net_2=Net('N2')\n",
    "skidl_D=D(ref='1',model=5, area=5, m=5, pj=5, off=5, temp=5, dtemp=5)\n",
    "skidl_D['p', 'n']+=net_1, net_2\n",
    "skidl_circ=generate_netlist()\n",
    "print(skidl_circ)"
   ]
  },
  {
   "cell_type": "code",
   "execution_count": 7,
   "metadata": {},
   "outputs": [
    {
     "name": "stdout",
     "output_type": "stream",
     "text": [
      ".title \n",
      "D1 N1 N2 5 area=5 dtemp=5 m=5 off pj=5 temp=5\n",
      "\n"
     ]
    }
   ],
   "source": [
    "pyspice_circ=Circuit('')\n",
    "pyspice_circ.D('1', 'N1', 'N2', model=5, area=5, m=5, pj=5, off=5, temp=5, dtemp=5)\n",
    "print(pyspice_circ)"
   ]
  },
  {
   "cell_type": "code",
   "execution_count": 8,
   "metadata": {},
   "outputs": [
    {
     "data": {
      "text/plain": [
       "'Match'"
      ]
     },
     "execution_count": 8,
     "metadata": {},
     "output_type": "execute_result"
    }
   ],
   "source": [
    "netlist_comp_check(skidl_circ, pyspice_circ)"
   ]
  },
  {
   "cell_type": "markdown",
   "metadata": {},
   "source": [
    "## E            | Voltage-controlled voltage source (VCVS)\n",
    "PySpice/PySpice/Spice/BasicElement.py; class VoltageControlledVoltageSource(TwoPortElement)\n",
    "\n",
    "skidl/skidl/libs/pyspice_sklib.py; name=\"E\"\n",
    "\n",
    "ngspice 4.2.2 Exxxx: Linear Voltage-Controlled Voltage Sources (VCVS): \n",
    "\n",
    "EXXXXXXX N| N- NC| NC- VALUE\n",
    "    \n",
    "### Notes"
   ]
  },
  {
   "cell_type": "code",
   "execution_count": 9,
   "metadata": {},
   "outputs": [
    {
     "name": "stderr",
     "output_type": "stream",
     "text": [
      "\n",
      "No errors or warnings found during netlist generation.\n",
      "\n"
     ]
    },
    {
     "name": "stdout",
     "output_type": "stream",
     "text": [
      ".title \n",
      "E1 N3 N4 N1 N2 5\n",
      "\n"
     ]
    }
   ],
   "source": [
    "reset()\n",
    "net_1=Net('N1'); net_2=Net('N2'); net_3=Net('N3'); net_4=Net('N4')\n",
    "skidl_E=E(ref='1', voltage_gain=5)\n",
    "skidl_E['ip', 'in']+=net_1, net_2; skidl_E['op', 'on']+=net_3, net_4\n",
    "skidl_circ=generate_netlist()\n",
    "print(skidl_circ)"
   ]
  },
  {
   "cell_type": "code",
   "execution_count": 10,
   "metadata": {},
   "outputs": [
    {
     "name": "stdout",
     "output_type": "stream",
     "text": [
      ".title \n",
      "E1 N3 N4 N1 N2 5\n",
      "\n"
     ]
    }
   ],
   "source": [
    "pyspice_circ=Circuit('')\n",
    "pyspice_circ.VoltageControlledVoltageSource('1', 'N3', 'N4', 'N1', 'N2', voltage_gain=5)\n",
    "print(pyspice_circ)"
   ]
  },
  {
   "cell_type": "code",
   "execution_count": 11,
   "metadata": {},
   "outputs": [
    {
     "data": {
      "text/plain": [
       "'Match'"
      ]
     },
     "execution_count": 11,
     "metadata": {},
     "output_type": "execute_result"
    }
   ],
   "source": [
    "netlist_comp_check(skidl_circ, pyspice_circ)"
   ]
  },
  {
   "cell_type": "markdown",
   "metadata": {},
   "source": [
    "## F            | Current-controlled current source (CCCs) \n",
    "PySpice/PySpice/Spice/BasicElement.py; class CurrentControlledCurrentSource(DipoleElement)\n",
    "\n",
    "skidl/skidl/libs/pyspice_sklib.py; name=\"F\"\n",
    "\n",
    "ngspice 4.2.3 Fxxxx: Linear Current-Controlled Current Sources (CCCS): \n",
    "\n",
    "FXXXXXXX N| N- VNAM VALUE <m=val>\n",
    "### Notes"
   ]
  },
  {
   "cell_type": "code",
   "execution_count": 12,
   "metadata": {},
   "outputs": [
    {
     "name": "stdout",
     "output_type": "stream",
     "text": [
      ".title \n",
      "F1 N1 N2 V1 5 m=5\n",
      "\n"
     ]
    },
    {
     "name": "stderr",
     "output_type": "stream",
     "text": [
      "\n",
      "No errors or warnings found during netlist generation.\n",
      "\n"
     ]
    }
   ],
   "source": [
    "reset()\n",
    "net_1=Net('N1'); net_2=Net('N2')\n",
    "skidl_F=F(ref='1', control='V1', current_gain=5, m=5)\n",
    "skidl_F['p', 'n']+=net_1, net_2;\n",
    "skidl_circ=generate_netlist()\n",
    "print(skidl_circ)"
   ]
  },
  {
   "cell_type": "code",
   "execution_count": 13,
   "metadata": {},
   "outputs": [
    {
     "name": "stdout",
     "output_type": "stream",
     "text": [
      ".title \n",
      "F1 N1 N2 V1 5 m=5\n",
      "\n"
     ]
    }
   ],
   "source": [
    "pyspice_circ=Circuit('')\n",
    "pyspice_circ.CurrentControlledCurrentSource('1', 'N1', 'N2', 'V1', current_gain=5, m=5)\n",
    "print(pyspice_circ)"
   ]
  },
  {
   "cell_type": "code",
   "execution_count": 14,
   "metadata": {},
   "outputs": [
    {
     "data": {
      "text/plain": [
       "'Match'"
      ]
     },
     "execution_count": 14,
     "metadata": {},
     "output_type": "execute_result"
    }
   ],
   "source": [
    "netlist_comp_check(skidl_circ, pyspice_circ)"
   ]
  },
  {
   "cell_type": "markdown",
   "metadata": {},
   "source": [
    "## G            | Voltage-controlled current source (VCCS)\n",
    "PySpice/PySpice/Spice/BasicElement.py; class VoltageControlledCurrentSource(TwoPortElement)\n",
    "\n",
    "skidl/skidl/libs/pyspice_sklib.py; name=\"G\"\n",
    "\n",
    "ngspice 4.2.1 Gxxxx: Linear Voltage-Controlled Current Sources (VCCS):\n",
    "\n",
    "GXXXXXXX N| N- NC| NC- VALUE <m=val>\n",
    "\n",
    "### Notes\n",
    "- 'transconductance' did not work in skidl; but `gain` did as did `current_gain`"
   ]
  },
  {
   "cell_type": "code",
   "execution_count": 15,
   "metadata": {},
   "outputs": [
    {
     "name": "stderr",
     "output_type": "stream",
     "text": [
      "\n",
      "No errors or warnings found during netlist generation.\n",
      "\n"
     ]
    },
    {
     "name": "stdout",
     "output_type": "stream",
     "text": [
      ".title \n",
      "G1 N3 N4 N1 N2 5 m=5\n",
      "\n"
     ]
    }
   ],
   "source": [
    "reset()\n",
    "net_1=Net('N1'); net_2=Net('N2'); net_3=Net('N3'); net_4=Net('N4')\n",
    "skidl_G=G(ref='1', current_gain=5, m=5)\n",
    "skidl_G['ip', 'in']+=net_1, net_2; skidl_G['op', 'on']+=net_3, net_4\n",
    "skidl_circ=generate_netlist()\n",
    "print(skidl_circ)"
   ]
  },
  {
   "cell_type": "code",
   "execution_count": 16,
   "metadata": {},
   "outputs": [
    {
     "name": "stdout",
     "output_type": "stream",
     "text": [
      ".title \n",
      "G1 N3 N4 N1 N2 5 m=5\n",
      "\n"
     ]
    }
   ],
   "source": [
    "pyspice_circ=Circuit('')\n",
    "pyspice_circ.VoltageControlledCurrentSource('1', 'N3', 'N4', 'N1', 'N2', transconductance=5, m=5)\n",
    "print(pyspice_circ)"
   ]
  },
  {
   "cell_type": "code",
   "execution_count": 17,
   "metadata": {},
   "outputs": [
    {
     "data": {
      "text/plain": [
       "'Match'"
      ]
     },
     "execution_count": 17,
     "metadata": {},
     "output_type": "execute_result"
    }
   ],
   "source": [
    "netlist_comp_check(skidl_circ, pyspice_circ)"
   ]
  },
  {
   "cell_type": "markdown",
   "metadata": {},
   "source": [
    "## H            | Current-controlled voltage source (CCVS)\n",
    "PySpice/PySpice/Spice/BasicElement.py; class CurrentControlledVoltageSource(DipoleElement)\n",
    "\n",
    "skidl/skidl/libs/pyspice_sklib.py; name=\"H\"\n",
    "\n",
    "ngspice 4.2.4 Hxxxx: Linear Current-Controlled Voltage Sources (CCVS): \n",
    "\n",
    "HXXXXXXX n| n- vnam val\n",
    "    \n",
    "### Notes"
   ]
  },
  {
   "cell_type": "code",
   "execution_count": 18,
   "metadata": {},
   "outputs": [
    {
     "name": "stdout",
     "output_type": "stream",
     "text": [
      ".title \n",
      "H1 N1 N2 V1 5\n",
      "\n"
     ]
    },
    {
     "name": "stderr",
     "output_type": "stream",
     "text": [
      "\n",
      "No errors or warnings found during netlist generation.\n",
      "\n"
     ]
    }
   ],
   "source": [
    "reset()\n",
    "net_1=Net('N1'); net_2=Net('N2')\n",
    "skidl_H=H(ref='1', control='V1', transresistance=5)\n",
    "skidl_H['p', 'n']+=net_1, net_2;\n",
    "skidl_circ=generate_netlist()\n",
    "print(skidl_circ)"
   ]
  },
  {
   "cell_type": "code",
   "execution_count": 19,
   "metadata": {},
   "outputs": [
    {
     "name": "stdout",
     "output_type": "stream",
     "text": [
      ".title \n",
      "H1 N1 N2 V1 5\n",
      "\n"
     ]
    }
   ],
   "source": [
    "pyspice_circ=Circuit('')\n",
    "pyspice_circ.CurrentControlledVoltageSource('1', 'N1', 'N2', 'V1', transresistance=5)\n",
    "print(pyspice_circ)"
   ]
  },
  {
   "cell_type": "code",
   "execution_count": 20,
   "metadata": {},
   "outputs": [
    {
     "data": {
      "text/plain": [
       "'Match'"
      ]
     },
     "execution_count": 20,
     "metadata": {},
     "output_type": "execute_result"
    }
   ],
   "source": [
    "netlist_comp_check(skidl_circ, pyspice_circ)"
   ]
  },
  {
   "cell_type": "markdown",
   "metadata": {},
   "source": [
    "## I            | Current source        \n",
    "\n",
    "PySpice/PySpice/Spice/BasicElement.py; class CurrentSource(DipoleElement)\n",
    "\n",
    "skidl/skidl/libs/pyspice_sklib.py; name=\"I\"\n",
    "\n",
    "ngspice 4.1 Independent Sources for Voltage or Current: \n",
    "\n",
    "IYYYYYYY N| N- <<DC> \n",
    "    \n",
    "### Notes\n",
    "- a reduced version of ngspices IYYYYYYY only generating the arguement for <<DC> DC/TRAN VALUE >"
   ]
  },
  {
   "cell_type": "code",
   "execution_count": 21,
   "metadata": {},
   "outputs": [
    {
     "name": "stdout",
     "output_type": "stream",
     "text": [
      ".title \n",
      "I1 N1 N2 5\n",
      "\n"
     ]
    },
    {
     "name": "stderr",
     "output_type": "stream",
     "text": [
      "\n",
      "No errors or warnings found during netlist generation.\n",
      "\n"
     ]
    }
   ],
   "source": [
    "reset()\n",
    "net_1=Net('N1'); net_2=Net('N2')\n",
    "skidl_I=I(ref='1', dc_value=5)\n",
    "skidl_I['p', 'n']+=net_1, net_2\n",
    "skidl_circ=generate_netlist()\n",
    "print(skidl_circ)"
   ]
  },
  {
   "cell_type": "code",
   "execution_count": 22,
   "metadata": {},
   "outputs": [
    {
     "name": "stdout",
     "output_type": "stream",
     "text": [
      ".title \n",
      "I1 N1 N2 5\n",
      "\n"
     ]
    }
   ],
   "source": [
    "pyspice_circ=Circuit('')\n",
    "pyspice_circ.I('1', 'N1', 'N2', dc_value=5)\n",
    "print(pyspice_circ)"
   ]
  },
  {
   "cell_type": "code",
   "execution_count": 23,
   "metadata": {},
   "outputs": [
    {
     "data": {
      "text/plain": [
       "'Match'"
      ]
     },
     "execution_count": 23,
     "metadata": {},
     "output_type": "execute_result"
    }
   ],
   "source": [
    "netlist_comp_check(skidl_circ, pyspice_circ)"
   ]
  },
  {
   "cell_type": "markdown",
   "metadata": {},
   "source": [
    "| J            | Junction field effect transistor (JFET)              |"
   ]
  },
  {
   "cell_type": "markdown",
   "metadata": {},
   "source": [
    "| K            | Coupled (Mutual) Inductors                           |"
   ]
  },
  {
   "cell_type": "markdown",
   "metadata": {},
   "source": [
    "## L            | Inductor        \n",
    "\n",
    "PySpice/PySpice/Spice/BasicElement.py; class Inductor(DipoleElement)\n",
    "\n",
    "skidl/skidl/libs/pyspice_sklib.py; name=\"L\"\n",
    "\n",
    "ngspice 3.2.9 Inductors: \n",
    "\n",
    "LYYYYYYY n| n- <value > <mname > <nt=val> <m=val> <scale=val> <temp=val> <dtemp=val> <tc1=val> <tc2=val> <ic=init_condition >\n",
    "    \n",
    "### Notes"
   ]
  },
  {
   "cell_type": "code",
   "execution_count": 24,
   "metadata": {},
   "outputs": [
    {
     "name": "stdout",
     "output_type": "stream",
     "text": [
      ".title \n",
      "L1 N1 N2 5 dtemp=5 ic=5 m=5 temp=5\n",
      "\n"
     ]
    },
    {
     "name": "stderr",
     "output_type": "stream",
     "text": [
      "\n",
      "No errors or warnings found during netlist generation.\n",
      "\n"
     ]
    }
   ],
   "source": [
    "reset()\n",
    "net_1=Net('N1'); net_2=Net('N2')\n",
    "skidl_L=L(ref='1', value=5, m=5, temp=5, dtemp=5, ic=5)\n",
    "skidl_L['p', 'n']+=net_1, net_2\n",
    "skidl_circ=generate_netlist()\n",
    "print(skidl_circ)"
   ]
  },
  {
   "cell_type": "code",
   "execution_count": 25,
   "metadata": {},
   "outputs": [
    {
     "name": "stdout",
     "output_type": "stream",
     "text": [
      ".title \n",
      "L1 N1 N2 5 dtemp=5 ic=5 m=5 temp=5\n",
      "\n"
     ]
    }
   ],
   "source": [
    "pyspice_circ=Circuit('')\n",
    "pyspice_circ.L('1', 'N1', 'N2', 5, m=5, temp=5, dtemp=5, ic=5)\n",
    "print(pyspice_circ)"
   ]
  },
  {
   "cell_type": "code",
   "execution_count": 26,
   "metadata": {},
   "outputs": [
    {
     "data": {
      "text/plain": [
       "'Match'"
      ]
     },
     "execution_count": 26,
     "metadata": {},
     "output_type": "execute_result"
    }
   ],
   "source": [
    "netlist_comp_check(skidl_circ, pyspice_circ)"
   ]
  },
  {
   "cell_type": "markdown",
   "metadata": {},
   "source": [
    "| M            | Metal oxide field effect transistor (MOSFET)         |"
   ]
  },
  {
   "cell_type": "markdown",
   "metadata": {},
   "source": [
    "| N            | Numerical device for GSS                             |"
   ]
  },
  {
   "cell_type": "markdown",
   "metadata": {},
   "source": [
    "| O            | Lossy transmission line                              |"
   ]
  },
  {
   "cell_type": "markdown",
   "metadata": {},
   "source": [
    "| P            | Coupled multiconductor line (CPL)                    |"
   ]
  },
  {
   "cell_type": "markdown",
   "metadata": {},
   "source": [
    "| Q            | Bipolar junction transistor (BJT)                    |"
   ]
  },
  {
   "cell_type": "markdown",
   "metadata": {},
   "source": [
    "## R            | Resistor         \n",
    "\n",
    "PySpice/PySpice/Spice/BasicElement.py; class Resistor(DipoleElement)\n",
    "\n",
    "skidl/skidl/libs/pyspice_sklib.py; name=\"R\"\n",
    "\n",
    "ngspice 3.2.1 Resistors: \n",
    "\n",
    "RXXXXXXX n| n- <resistance|r=>value <ac=val> <m=val> <scale=val> <temp=val> <dtemp=val> <tc1=val> <tc2=val> <noisy=0|1>\n",
    "    \n",
    "### Notes"
   ]
  },
  {
   "cell_type": "code",
   "execution_count": 27,
   "metadata": {},
   "outputs": [
    {
     "name": "stdout",
     "output_type": "stream",
     "text": [
      ".title \n",
      "R1 N1 N2 5 ac=5 dtemp=5 m=5 noisy=1 scale=5 temp=5\n",
      "\n"
     ]
    },
    {
     "name": "stderr",
     "output_type": "stream",
     "text": [
      "\n",
      "No errors or warnings found during netlist generation.\n",
      "\n"
     ]
    }
   ],
   "source": [
    "reset()\n",
    "net_1=Net('N1'); net_2=Net('N2')\n",
    "skidl_R=R(ref='1', value=5, ac=5, m=5, scale=5, temp=5, dtemp=5, noisy=1)\n",
    "skidl_R['p', 'n']+=net_1, net_2\n",
    "skidl_circ=generate_netlist()\n",
    "print(skidl_circ)"
   ]
  },
  {
   "cell_type": "code",
   "execution_count": 28,
   "metadata": {},
   "outputs": [
    {
     "name": "stdout",
     "output_type": "stream",
     "text": [
      ".title \n",
      "R1 N1 N2 5 ac=5 dtemp=5 m=5 noisy=1 scale=5 temp=5\n",
      "\n"
     ]
    }
   ],
   "source": [
    "pyspice_circ=Circuit('')\n",
    "pyspice_circ.R('1', 'N1', 'N2', 5, ac=5, m=5, scale=5, temp=5, dtemp=5, noisy=1)\n",
    "print(pyspice_circ)"
   ]
  },
  {
   "cell_type": "code",
   "execution_count": 29,
   "metadata": {},
   "outputs": [
    {
     "data": {
      "text/plain": [
       "'Match'"
      ]
     },
     "execution_count": 29,
     "metadata": {},
     "output_type": "execute_result"
    }
   ],
   "source": [
    "netlist_comp_check(skidl_circ, pyspice_circ)"
   ]
  },
  {
   "cell_type": "markdown",
   "metadata": {},
   "source": [
    "| S            | Switch (voltage-controlled)                          |"
   ]
  },
  {
   "cell_type": "markdown",
   "metadata": {},
   "source": [
    "| T            | Lossless transmission line                           |"
   ]
  },
  {
   "cell_type": "markdown",
   "metadata": {},
   "source": [
    "| U            | Uniformly distributed RC line                        |"
   ]
  },
  {
   "cell_type": "markdown",
   "metadata": {},
   "source": [
    "| V            | Voltage source                                       |"
   ]
  },
  {
   "cell_type": "markdown",
   "metadata": {},
   "source": [
    "## V | Voltage source      \n",
    "\n",
    "PySpice/PySpice/Spice/BasicElement.py; class VoltageSource(DipoleElement)\n",
    "\n",
    "skidl/skidl/libs/pyspice_sklib.py; name=\"V\"\n",
    "\n",
    "ngspice 4.1 Independent Sources for Voltage or Current: \n",
    "\n",
    "VXXXXXXX N| N- <<DC> DC/TRAN VALUE >\n",
    "    \n",
    "### Notes\n",
    "- a reduced version of ngspices VXXXXXXX only generating the arguement for <<DC> DC/TRAN VALUE >"
   ]
  },
  {
   "cell_type": "code",
   "execution_count": 30,
   "metadata": {},
   "outputs": [
    {
     "name": "stdout",
     "output_type": "stream",
     "text": [
      ".title \n",
      "V1 N1 N2 5\n",
      "\n"
     ]
    },
    {
     "name": "stderr",
     "output_type": "stream",
     "text": [
      "\n",
      "No errors or warnings found during netlist generation.\n",
      "\n"
     ]
    }
   ],
   "source": [
    "reset()\n",
    "net_1=Net('N1'); net_2=Net('N2')\n",
    "skidl_V=V(ref='1', dc_value=5)\n",
    "skidl_V['p', 'n']+=net_1, net_2\n",
    "skidl_circ=generate_netlist()\n",
    "print(skidl_circ)"
   ]
  },
  {
   "cell_type": "code",
   "execution_count": 31,
   "metadata": {},
   "outputs": [
    {
     "name": "stdout",
     "output_type": "stream",
     "text": [
      ".title \n",
      "V1 N1 N2 5\n",
      "\n"
     ]
    }
   ],
   "source": [
    "pyspice_circ=Circuit('')\n",
    "pyspice_circ.V('1', 'N1', 'N2', dc_value=5)\n",
    "print(pyspice_circ)"
   ]
  },
  {
   "cell_type": "code",
   "execution_count": 32,
   "metadata": {},
   "outputs": [
    {
     "data": {
      "text/plain": [
       "'Match'"
      ]
     },
     "execution_count": 32,
     "metadata": {},
     "output_type": "execute_result"
    }
   ],
   "source": [
    "netlist_comp_check(skidl_circ, pyspice_circ)"
   ]
  },
  {
   "cell_type": "markdown",
   "metadata": {},
   "source": [
    "| W            | Switch (current-controlled)                          |"
   ]
  },
  {
   "cell_type": "markdown",
   "metadata": {},
   "source": [
    "| X            | Subcircuit                                           |"
   ]
  },
  {
   "cell_type": "markdown",
   "metadata": {},
   "source": [
    "| Y            | Single lossy transmission line (TXL)                 |"
   ]
  },
  {
   "cell_type": "markdown",
   "metadata": {},
   "source": [
    "| Z            | Metal semiconductor field effect transistor (MESFET) |"
   ]
  },
  {
   "cell_type": "markdown",
   "metadata": {},
   "source": [
    "# Highlevel Elements `SinusoidalMixin` Based\n",
    "\n",
    "SinusoidalMixin is the base translation class for sinusoid wave waveform sources, in other words even thou ngspice compines most sinusoid source as just argument extations to exsisting DC source to create AC souces through pyspice to ngspice these elements must be used\n",
    "\n",
    "## `SinusoidalMixin` args:\n",
    "\n",
    "\n",
    "| Name | Parameter      | Default Value | Units |\n",
    "|------|----------------|---------------|-------|\n",
    "| Vo   | offset         |               | V, A  |\n",
    "|------|----------------|---------------|-------|\n",
    "| Va   | amplitude      |               | V, A  |\n",
    "|------|----------------|---------------|-------|\n",
    "| f    | frequency      | 1 / TStop     | Hz    |\n",
    "|------|----------------|---------------|-------|\n",
    "| Td   | delay          | 0.0           | sec   |\n",
    "|------|----------------|---------------|-------|\n",
    "| Df   | damping factor | 0.01          | 1/sec |\n",
    "|------|----------------|---------------|-------|\n",
    "\n",
    "so for a AC SIN voltage sours it's output should be equilint to the following:\n",
    "\n",
    "$$V(t) = \\begin{cases}\n",
    "          V_o & \\text{if}\\ 0 \\leq t < T_d, \\\\\n",
    "          V_o + V_a e^{-D_f(t-T_d)} \\sin\\left(2\\pi f (t-T_d)\\right) & \\text{if}\\ T_d \\leq t < T_{stop}.\n",
    "        \\end{cases}$$"
   ]
  },
  {
   "cell_type": "markdown",
   "metadata": {},
   "source": [
    "## SinusoidalVoltageSource (AC)\n",
    "    \n",
    "\n",
    "PySpice/PySpice/Spice/HighLevelElement.py; class SinusoidalVoltageSource(VoltageSource, VoltageSourceMixinAbc, SinusoidalMixin)\n",
    "\n",
    "skidl/skidl/libs/pyspice_sklib.py; name=\"SINEV\"\n",
    "\n",
    "ngspice 4.1 Independent Sources for Voltage or Current & 4.1.2 Sinusoidal: \n",
    "\n",
    "VXXXXXXX N+ N- <<DC> DC/TRAN VALUE > <AC <ACMAG <ACPHASE >>> <DISTOF1 <F1MAG <F1PHASE >>> <DISTOF2 <F2MAG <F2PHASE >>> \n",
    "    \n",
    "SIN(VO VA FREQ TD THETA PHASE)\n",
    "    \n",
    "### Notes\n",
    "- a amalgumation of ngspice's  Independent Sources for Voltage & Sinusoidal statment for transint simulations"
   ]
  },
  {
   "cell_type": "code",
   "execution_count": 33,
   "metadata": {},
   "outputs": [
    {
     "name": "stdout",
     "output_type": "stream",
     "text": [
      ".title \n",
      "V1 N1 N2 DC 5V AC 1V SIN(5V 5V 5Hz 5s 5Hz)\n",
      "\n"
     ]
    },
    {
     "name": "stderr",
     "output_type": "stream",
     "text": [
      "\n",
      "No errors or warnings found during netlist generation.\n",
      "\n"
     ]
    }
   ],
   "source": [
    "reset()\n",
    "net_1=Net('N1'); net_2=Net('N2')\n",
    "skidl_SINV=SINEV(ref='1', \n",
    "            #transit sim statments\n",
    "            offset=5,amplitude=5, frequency=5 , delay=5, damping_factor=5,\n",
    "            #ac sim statments\n",
    "            ac_magnitude=5, dc_offset=5)\n",
    "\n",
    "skidl_SINV['p', 'n']+=net_1, net_2\n",
    "skidl_circ=generate_netlist()\n",
    "print(skidl_circ)"
   ]
  },
  {
   "cell_type": "code",
   "execution_count": 34,
   "metadata": {},
   "outputs": [
    {
     "name": "stdout",
     "output_type": "stream",
     "text": [
      ".title \n",
      "V1 N1 N2 DC 5V AC 5V SIN(5V 5V 5Hz 5s 5Hz)\n",
      "\n"
     ]
    }
   ],
   "source": [
    "pyspice_circ=Circuit('')\n",
    "pyspice_circ.SinusoidalVoltageSource('1', 'N1', 'N2', \n",
    "                #transit sim statments\n",
    "                offset=5,amplitude=5, frequency=5 , delay=5, damping_factor=5,\n",
    "                #ac sim statments\n",
    "                ac_magnitude=5, dc_offset=5\n",
    "                                    \n",
    "                                    )\n",
    "print(pyspice_circ)"
   ]
  },
  {
   "cell_type": "code",
   "execution_count": 35,
   "metadata": {},
   "outputs": [
    {
     "name": "stdout",
     "output_type": "stream",
     "text": [
      "Match failed skidl_netlist:\n",
      "[27]\n"
     ]
    },
    {
     "data": {
      "text/plain": [
       "[26]"
      ]
     },
     "execution_count": 35,
     "metadata": {},
     "output_type": "execute_result"
    }
   ],
   "source": [
    "netlist_comp_check(skidl_circ, pyspice_circ)"
   ]
  },
  {
   "cell_type": "markdown",
   "metadata": {},
   "source": [
    "## SinusoidalCurrentSource (AC)\n",
    "    \n",
    "\n",
    "PySpice/PySpice/Spice/HighLevelElement.py; class class SinusoidalCurrentSource(CurrentSource, CurrentSourceMixinAbc, SinusoidalMixin):\n",
    "\n",
    "\n",
    "skidl/skidl/libs/pyspice_sklib.py; name=\"SINEI\"\n",
    "\n",
    "ngspice 4.1 Independent Sources for Voltage or Current & 4.1.2 Sinusoidal: \n",
    "\n",
    "IYYYYYYY N+ N- <<DC> DC/TRAN VALUE > <AC <ACMAG <ACPHASE >>> <DISTOF1 <F1MAG <F1PHASE >>> <DISTOF2 <F2MAG <F2PHASE >>> \n",
    "    \n",
    "SIN(VO VA FREQ TD THETA PHASE)\n",
    "    \n",
    "### Notes\n",
    "- a amalgumation of ngspice's  Independent Sources for Voltage & Sinusoidal statment for transint simulations"
   ]
  },
  {
   "cell_type": "code",
   "execution_count": 36,
   "metadata": {},
   "outputs": [
    {
     "name": "stdout",
     "output_type": "stream",
     "text": [
      ".title \n",
      "I1 N1 N2 DC 5A AC 1A SIN(5A 5A 5Hz 5s 5Hz)\n",
      "\n"
     ]
    },
    {
     "name": "stderr",
     "output_type": "stream",
     "text": [
      "\n",
      "No errors or warnings found during netlist generation.\n",
      "\n"
     ]
    }
   ],
   "source": [
    "reset()\n",
    "net_1=Net('N1'); net_2=Net('N2')\n",
    "skidl_SINI=SINEI(ref='1', \n",
    "            #transit sim statments\n",
    "            offset=5,amplitude=5, frequency=5 , delay=5, damping_factor=5,\n",
    "            #ac sim statments\n",
    "            ac_magnitude=5, dc_offset=5)\n",
    "\n",
    "skidl_SINI['p', 'n']+=net_1, net_2\n",
    "skidl_circ=generate_netlist()\n",
    "print(skidl_circ)"
   ]
  },
  {
   "cell_type": "code",
   "execution_count": 37,
   "metadata": {},
   "outputs": [
    {
     "name": "stdout",
     "output_type": "stream",
     "text": [
      ".title \n",
      "I1 N1 N2 DC 5A AC 5A SIN(5A 5A 5Hz 5s 5Hz)\n",
      "\n"
     ]
    }
   ],
   "source": [
    "pyspice_circ=Circuit('')\n",
    "pyspice_circ.SinusoidalCurrentSource('1', 'N1', 'N2', \n",
    "                #transit sim statments\n",
    "                offset=5,amplitude=5, frequency=5 , delay=5, damping_factor=5,\n",
    "                #ac sim statments\n",
    "                ac_magnitude=5, dc_offset=5\n",
    "                                    \n",
    "                                    )\n",
    "print(pyspice_circ)"
   ]
  },
  {
   "cell_type": "code",
   "execution_count": 38,
   "metadata": {},
   "outputs": [
    {
     "name": "stdout",
     "output_type": "stream",
     "text": [
      "Match failed skidl_netlist:\n",
      "[27]\n"
     ]
    },
    {
     "data": {
      "text/plain": [
       "[26]"
      ]
     },
     "execution_count": 38,
     "metadata": {},
     "output_type": "execute_result"
    }
   ],
   "source": [
    "netlist_comp_check(skidl_circ, pyspice_circ)"
   ]
  },
  {
   "cell_type": "markdown",
   "metadata": {},
   "source": [
    "## AcLine(SinusoidalVoltageSource)\n",
    "PySpice/PySpice/Spice/HighLevelElement.py; class AcLine(SinusoidalVoltageSource)\n",
    "\n",
    "skidl/skidl/libs/pyspice_sklib.py; NOT IMPLIMENTED\n",
    "\n",
    "ngspice 4.1 Independent Sources for Voltage or Current: \n",
    "\n",
    "VXXXXXXX N+ N- <<DC> DC/TRAN VALUE > <AC <ACMAG <ACPHASE >>> <DISTOF1 <F1MAG <F1PHASE >>> <DISTOF2 <F2MAG <F2PHASE >>> \n",
    "    \n",
    "\n",
    "\n",
    "### Notes\n",
    "- it's a pyspice only wraper around pyspices `SinusoidalVoltageSource` that makes a pure for transisint simulation only SIN voltage source with the only arguments being `rms_voltage` and `frequency`\n",
    "- pyspice does the rms to amplitute conversion internaly\n",
    "- pyspice does not have a `offset` arg\n",
    "- pyspice does not have a `delay` arg\n",
    "- pyspice does not have a `damping_factor` arg\n",
    "- pyspice does not have a `ac_magnitude` arg\n",
    "- pyspice does not have a `dc_offset` arg\n",
    "- pspice still gives a AC output of the default 1V; this needs to be changed to be equal to `amplitude` internal value or else will give aid in producing incorect results with **ac** simulations"
   ]
  },
  {
   "cell_type": "code",
   "execution_count": 39,
   "metadata": {},
   "outputs": [
    {
     "name": "stdout",
     "output_type": "stream",
     "text": [
      ".title \n",
      "\n",
      "\n"
     ]
    },
    {
     "name": "stderr",
     "output_type": "stream",
     "text": [
      "\n",
      "No errors or warnings found during netlist generation.\n",
      "\n"
     ]
    }
   ],
   "source": [
    "reset()\n",
    "net_1=Net('N1'); net_2=Net('N2')\n",
    "# Skidle does not impliment an AcLine equivlent at this time\n",
    "skidl_circ=generate_netlist()\n",
    "print(skidl_circ)"
   ]
  },
  {
   "cell_type": "code",
   "execution_count": 40,
   "metadata": {},
   "outputs": [
    {
     "name": "stdout",
     "output_type": "stream",
     "text": [
      ".title \n",
      "V1 N1 N2 DC 0V AC 1V SIN(0V 11.313708498984761V 5Hz 0s 0Hz)\n",
      "\n"
     ]
    }
   ],
   "source": [
    "pyspice_circ=Circuit('')\n",
    "pyspice_circ.AcLine('1', 'N1', 'N2', \n",
    "                #transit sim statments\n",
    "                rms_voltage=8, frequency=5 \n",
    "                                    \n",
    "                                    )\n",
    "print(pyspice_circ)"
   ]
  },
  {
   "cell_type": "code",
   "execution_count": 41,
   "metadata": {},
   "outputs": [
    {
     "data": {
      "text/plain": [
       "'skidl_netlist is shorter then pyspice_netlist'"
      ]
     },
     "execution_count": 41,
     "metadata": {},
     "output_type": "execute_result"
    }
   ],
   "source": [
    "netlist_comp_check(skidl_circ, pyspice_circ)"
   ]
  },
  {
   "cell_type": "markdown",
   "metadata": {},
   "source": [
    "# Highlevel Elements `PulseMixin` Based"
   ]
  },
  {
   "cell_type": "markdown",
   "metadata": {},
   "source": [
    "# Highlevel Elements `ExponentialMixin` Based"
   ]
  },
  {
   "cell_type": "markdown",
   "metadata": {},
   "source": [
    "# Highlevel Elements `PieceWiseLinearMixin` Based"
   ]
  },
  {
   "cell_type": "markdown",
   "metadata": {},
   "source": [
    "# Highlevel Elements `SingleFrequencyFMMixin` Based"
   ]
  },
  {
   "cell_type": "markdown",
   "metadata": {},
   "source": [
    "# Highlevel Elements `AmplitudeModulatedMixin` Based"
   ]
  },
  {
   "cell_type": "markdown",
   "metadata": {},
   "source": [
    "# Highlevel Elements `RandomMixin` Based"
   ]
  },
  {
   "cell_type": "code",
   "execution_count": null,
   "metadata": {},
   "outputs": [],
   "source": []
  }
 ],
 "metadata": {
  "kernelspec": {
   "display_name": "Python 3",
   "language": "python",
   "name": "python3"
  },
  "language_info": {
   "codemirror_mode": {
    "name": "ipython",
    "version": 3
   },
   "file_extension": ".py",
   "mimetype": "text/x-python",
   "name": "python",
   "nbconvert_exporter": "python",
   "pygments_lexer": "ipython3",
   "version": "3.8.5"
  }
 },
 "nbformat": 4,
 "nbformat_minor": 4
}
